{
 "cells": [
  {
   "cell_type": "markdown",
   "metadata": {},
   "source": [
    "# To convert nii.gz file to png for all slices"
   ]
  },
  {
   "cell_type": "markdown",
   "metadata": {},
   "source": [
    "### Source: https://github.com/madsendennis/notebooks/blob/master/volume_segmentation_with_unet/01_Volume-Segmentation-with-UNET_Pre-processing.ipynb"
   ]
  },
  {
   "cell_type": "code",
   "execution_count": 2,
   "metadata": {},
   "outputs": [],
   "source": [
    "import os, glob\n",
    "import nibabel as nib\n",
    "import numpy as np\n",
    "import matplotlib.pyplot as plt\n",
    "import cv2"
   ]
  },
  {
   "cell_type": "code",
   "execution_count": 3,
   "metadata": {},
   "outputs": [],
   "source": [
    "# CONSTANTS!!!\n",
    "\n",
    "# STEP 1 - Load and visualize data\n",
    "dataInputPath = 'D:/seg/jun ma/'\n",
    "imagePathInput = os.path.join(dataInputPath, 'COVID-19-CT-Seg_20cases/')\n",
    "maskPathInput = os.path.join(dataInputPath, 'Infection_Mask/')\n",
    "\n",
    "dataOutputPath = 'D:/seg/jun ma/output/'\n",
    "imageSliceOutput = os.path.join(dataOutputPath, 'img/')\n",
    "maskSliceOutput = os.path.join(dataOutputPath, 'mask/')\n",
    "\n",
    "# STEP 2 - Image normalization\n",
    "HOUNSFIELD_MIN = -1000\n",
    "HOUNSFIELD_MAX = 2000\n",
    "HOUNSFIELD_RANGE = HOUNSFIELD_MAX - HOUNSFIELD_MIN\n",
    "\n",
    "# STEP 3 - Slicing and saving\n",
    "SLICE_X = True\n",
    "SLICE_Y = True\n",
    "SLICE_Z = False\n",
    "\n",
    "SLICE_DECIMATE_IDENTIFIER = 3"
   ]
  },
  {
   "cell_type": "code",
   "execution_count": 4,
   "metadata": {},
   "outputs": [
    {
     "data": {
      "text/plain": [
       "(-1021.0, 2996.0, (512, 512, 301), numpy.memmap)"
      ]
     },
     "execution_count": 4,
     "metadata": {},
     "output_type": "execute_result"
    }
   ],
   "source": [
    "# Load image and see max min Hounsfield units\n",
    "imgPath = os.path.join(imagePathInput, 'coronacases_org_001.nii')\n",
    "img = nib.load(imgPath).get_fdata()\n",
    "np.min(img), np.max(img), img.shape, type(img)"
   ]
  },
  {
   "cell_type": "code",
   "execution_count": 7,
   "metadata": {},
   "outputs": [
    {
     "data": {
      "text/plain": [
       "(0.0, 1.0, (512, 512, 301), numpy.memmap)"
      ]
     },
     "execution_count": 7,
     "metadata": {},
     "output_type": "execute_result"
    }
   ],
   "source": [
    "maskPath = os.path.join(maskPathInput, 'coronacases_001.nii')\n",
    "mask = nib.load(maskPath).get_fdata()\n",
    "np.min(mask), np.max(mask), mask.shape, type(mask)"
   ]
  },
  {
   "cell_type": "code",
   "execution_count": 23,
   "metadata": {},
   "outputs": [
    {
     "data": {
      "image/png": "[encoded data removed]",
      "text/plain": [
       "<Figure size 432x288 with 1 Axes>"
      ]
     },
     "metadata": {
      "needs_background": "light"
     },
     "output_type": "display_data"
    }
   ],
   "source": [
    "# Show image slice\n",
    "imgSlice = mask[200,:,:]\n",
    "plt.imshow(imgSlice, cmap='gray')\n",
    "plt.show()"
   ]
  },
  {
   "cell_type": "code",
   "execution_count": 24,
   "metadata": {},
   "outputs": [
    {
     "data": {
      "text/plain": [
       "(0.0, 1.0, (512, 512, 301), numpy.ndarray)"
      ]
     },
     "execution_count": 24,
     "metadata": {},
     "output_type": "execute_result"
    }
   ],
   "source": [
    "# Normalize image\n",
    "def normalizeImageIntensityRange(img):\n",
    "    img[img < HOUNSFIELD_MIN] = HOUNSFIELD_MIN\n",
    "    img[img > HOUNSFIELD_MAX] = HOUNSFIELD_MAX\n",
    "    return (img - HOUNSFIELD_MIN) / HOUNSFIELD_RANGE\n",
    "\n",
    "nImg = normalizeImageIntensityRange(img)\n",
    "np.min(nImg), np.max(nImg), nImg.shape, type(nImg)"
   ]
  },
  {
   "cell_type": "code",
   "execution_count": null,
   "metadata": {},
   "outputs": [],
   "source": [
    "# Read image or mask volume\n",
    "def readImageVolume(imgPath, normalize=False):\n",
    "    img = nib.load(imgPath).get_fdata()\n",
    "    if normalize:\n",
    "        return normalizeImageIntensityRange(img)\n",
    "    else:\n",
    "        return img\n",
    "    \n",
    "readImageVolume(imgPath, normalize=True)\n",
    "readImageVolume(maskPath, normalize=False)"
   ]
  },
  {
   "cell_type": "code",
   "execution_count": 29,
   "metadata": {},
   "outputs": [],
   "source": [
    "# Save volume slice to file\n",
    "def saveSlice(img, fname, path):\n",
    "    img = np.uint8(img * 255)\n",
    "    fout = os.path.join(path, f'{fname}.png')\n",
    "    cv2.imwrite(fout, img)\n",
    "    print(f'[+] Slice saved: {fout}', end='\\r')"
   ]
  },
  {
   "cell_type": "code",
   "execution_count": 30,
   "metadata": {},
   "outputs": [],
   "source": [
    "# Slice image in all directions and save\n",
    "def sliceAndSaveVolumeImage(vol, fname, path):\n",
    "    (dimx, dimy, dimz) = vol.shape\n",
    "    print(dimx, dimy, dimz)\n",
    "    cnt = 0\n",
    "    if SLICE_X:\n",
    "        cnt += dimx\n",
    "        print('Slicing X: ')\n",
    "        for i in range(dimx):\n",
    "            saveSlice(vol[i,:,:], fname+f'-slice{str(i).zfill(SLICE_DECIMATE_IDENTIFIER)}_x', path)\n",
    "            \n",
    "    if SLICE_Y:\n",
    "        cnt += dimy\n",
    "        print('Slicing Y: ')\n",
    "        for i in range(dimy):\n",
    "            saveSlice(vol[:,i,:], fname+f'-slice{str(i).zfill(SLICE_DECIMATE_IDENTIFIER)}_y', path)\n",
    "            \n",
    "    if SLICE_Z:\n",
    "        cnt += dimz\n",
    "        print('Slicing Z: ')\n",
    "        for i in range(dimz):\n",
    "            saveSlice(vol[:,:,i], fname+f'-slice{str(i).zfill(SLICE_DECIMATE_IDENTIFIER)}_z', path)\n",
    "    return cnt"
   ]
  },
  {
   "cell_type": "code",
   "execution_count": 31,
   "metadata": {},
   "outputs": [
    {
     "name": "stdout",
     "output_type": "stream",
     "text": [
      "D:/seg/jun ma/COVID-19-CT-Seg_20cases\\coronacases_org_001.nii (512, 512, 301) 1325 0.0 1.0\n",
      "512 512 301\n",
      "Slicing X: \n",
      "Slicing Y: aved: D:/seg/jun ma/output/img/ct0-slice511_x.png\n",
      "[+] Slice saved: D:/seg/jun ma/output/img/ct0-slice511_y.png\n",
      "D:/seg/jun ma/COVID-19-CT-Seg_20cases\\coronacases_org_001.nii, 1024 slices created \n",
      "\n",
      "D:/seg/jun ma/COVID-19-CT-Seg_20cases\\coronacases_org_002.nii (512, 512, 200) 1224 0.0 1.0\n",
      "512 512 200\n",
      "Slicing X: \n",
      "Slicing Y: aved: D:/seg/jun ma/output/img/ct1-slice511_x.png\n",
      "[+] Slice saved: D:/seg/jun ma/output/img/ct1-slice511_y.png\n",
      "D:/seg/jun ma/COVID-19-CT-Seg_20cases\\coronacases_org_002.nii, 1024 slices created \n",
      "\n",
      "D:/seg/jun ma/COVID-19-CT-Seg_20cases\\coronacases_org_003.nii (512, 512, 200) 1224 0.0 1.0\n",
      "512 512 200\n",
      "Slicing X: \n",
      "Slicing Y: aved: D:/seg/jun ma/output/img/ct2-slice511_x.png\n",
      "[+] Slice saved: D:/seg/jun ma/output/img/ct2-slice511_y.png\n",
      "D:/seg/jun ma/COVID-19-CT-Seg_20cases\\coronacases_org_003.nii, 1024 slices created \n",
      "\n",
      "D:/seg/jun ma/COVID-19-CT-Seg_20cases\\coronacases_org_004.nii (512, 512, 270) 1294 0.0 1.0\n",
      "512 512 270\n",
      "Slicing X: \n",
      "Slicing Y: aved: D:/seg/jun ma/output/img/ct3-slice511_x.png\n",
      "[+] Slice saved: D:/seg/jun ma/output/img/ct3-slice511_y.png\n",
      "D:/seg/jun ma/COVID-19-CT-Seg_20cases\\coronacases_org_004.nii, 1024 slices created \n",
      "\n"
     ]
    }
   ],
   "source": [
    "# Read and process image volumes\n",
    "for index, filename in enumerate(sorted(glob.iglob(imagePathInput+'*.nii'))):\n",
    "    img = readImageVolume(filename, True)\n",
    "    print(filename, img.shape, np.sum(img.shape), np.min(img), np.max(img))\n",
    "    numOfSlices = sliceAndSaveVolumeImage(img, 'ct'+str(index), imageSliceOutput)\n",
    "    print(f'\\n{filename}, {numOfSlices} slices created \\n')"
   ]
  },
  {
   "cell_type": "code",
   "execution_count": 32,
   "metadata": {},
   "outputs": [
    {
     "name": "stdout",
     "output_type": "stream",
     "text": [
      "D:/seg/jun ma/Infection_Mask\\coronacases_001.nii (512, 512, 301) 1325 0.0 1.0\n",
      "512 512 301\n",
      "Slicing X: \n",
      "Slicing Y: aved: D:/seg/jun ma/output/mask/ct0-slice511_x.png\n",
      "[+] Slice saved: D:/seg/jun ma/output/mask/ct0-slice511_y.png\n",
      "D:/seg/jun ma/Infection_Mask\\coronacases_001.nii, 1024 slices created \n",
      "\n",
      "D:/seg/jun ma/Infection_Mask\\coronacases_002.nii (512, 512, 200) 1224 0.0 1.0\n",
      "512 512 200\n",
      "Slicing X: \n",
      "Slicing Y: aved: D:/seg/jun ma/output/mask/ct1-slice511_x.png\n",
      "[+] Slice saved: D:/seg/jun ma/output/mask/ct1-slice511_y.png\n",
      "D:/seg/jun ma/Infection_Mask\\coronacases_002.nii, 1024 slices created \n",
      "\n",
      "D:/seg/jun ma/Infection_Mask\\coronacases_003.nii (512, 512, 200) 1224 0.0 1.0\n",
      "512 512 200\n",
      "Slicing X: \n",
      "Slicing Y: aved: D:/seg/jun ma/output/mask/ct2-slice511_x.png\n",
      "[+] Slice saved: D:/seg/jun ma/output/mask/ct2-slice511_y.png\n",
      "D:/seg/jun ma/Infection_Mask\\coronacases_003.nii, 1024 slices created \n",
      "\n",
      "D:/seg/jun ma/Infection_Mask\\coronacases_004.nii (512, 512, 270) 1294 0.0 1.0\n",
      "512 512 270\n",
      "Slicing X: \n",
      "Slicing Y: aved: D:/seg/jun ma/output/mask/ct3-slice511_x.png\n",
      "[+] Slice saved: D:/seg/jun ma/output/mask/ct3-slice511_y.png\n",
      "D:/seg/jun ma/Infection_Mask\\coronacases_004.nii, 1024 slices created \n",
      "\n"
     ]
    }
   ],
   "source": [
    "# Read and process image mask volumes\n",
    "for index, filename in enumerate(sorted(glob.iglob(maskPathInput+'*.nii'))):\n",
    "    img = readImageVolume(filename, False)\n",
    "    print(filename, img.shape, np.sum(img.shape), np.min(img), np.max(img))\n",
    "    numOfSlices = sliceAndSaveVolumeImage(img, 'ct'+str(index), maskSliceOutput)\n",
    "    print(f'\\n{filename}, {numOfSlices} slices created \\n')"
   ]
  },
  {
   "cell_type": "code",
   "execution_count": null,
   "metadata": {},
   "outputs": [],
   "source": []
  },
  {
   "cell_type": "code",
   "execution_count": null,
   "metadata": {},
   "outputs": [],
   "source": []
  },
  {
   "cell_type": "code",
   "execution_count": null,
   "metadata": {},
   "outputs": [],
   "source": []
  }
 ],
 "metadata": {
  "kernelspec": {
   "display_name": "Python 3",
   "language": "python",
   "name": "python3"
  },
  "language_info": {
   "codemirror_mode": {
    "name": "ipython",
    "version": 3
   },
   "file_extension": ".py",
   "mimetype": "text/x-python",
   "name": "python",
   "nbconvert_exporter": "python",
   "pygments_lexer": "ipython3",
   "version": "3.8.5"
  }
 },
 "nbformat": 4,
 "nbformat_minor": 4
}
